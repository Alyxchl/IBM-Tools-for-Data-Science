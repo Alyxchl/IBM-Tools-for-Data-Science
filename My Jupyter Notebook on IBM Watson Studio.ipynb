{
 "cells": [
  {
   "cell_type": "markdown",
   "metadata": {
    "collapsed": true
   },
   "source": [
    "# My Jupyter Notebook on IBM Watson Studio"
   ]
  },
  {
   "cell_type": "markdown",
   "metadata": {},
   "source": [
    "**ChaHui LOW**  \n",
    "Entry level Business Analyst"
   ]
  },
  {
   "cell_type": "markdown",
   "metadata": {},
   "source": [
    "*I'm interested in data science because I've seen how data can improve decision making in business strategy and that I'm passionate about solving problem with creative solutions that are backed by credible analysis.*"
   ]
  },
  {
   "cell_type": "markdown",
   "metadata": {},
   "source": [
    "### My code is supposed to assign values to multiple variables ###"
   ]
  },
  {
   "cell_type": "code",
   "execution_count": 4,
   "metadata": {},
   "outputs": [
    {
     "name": "stdout",
     "output_type": "stream",
     "text": [
      "Watermelon\n",
      "Sugar\n",
      "High\n"
     ]
    }
   ],
   "source": [
    "x, y, z = \"Watermelon\", \"Sugar\", \"High\"\n",
    "print(x) \n",
    "print(y) \n",
    "print(z)"
   ]
  },
  {
   "attachments": {},
   "cell_type": "markdown",
   "metadata": {},
   "source": [
    "[I'm a hyperlink](https://www.google.com)  \n",
    "![alt text](https://static.wixstatic.com/media/d457aa_1ff857bb21a64bc7bcb20230790964cd~mv2.png \"Social Media Icon\")\n",
    "`List = ['Data Merged', 1, True]`"
   ]
  }
 ],
 "metadata": {
  "kernelspec": {
   "display_name": "Python 3.9",
   "language": "python",
   "name": "python3"
  },
  "language_info": {
   "codemirror_mode": {
    "name": "ipython",
    "version": 3
   },
   "file_extension": ".py",
   "mimetype": "text/x-python",
   "name": "python",
   "nbconvert_exporter": "python",
   "pygments_lexer": "ipython3",
   "version": "3.9.12"
  }
 },
 "nbformat": 4,
 "nbformat_minor": 1
}
